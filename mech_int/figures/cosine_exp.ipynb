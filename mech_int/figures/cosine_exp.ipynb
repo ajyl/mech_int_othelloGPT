{
 "cells": [
  {
   "cell_type": "code",
   "execution_count": null,
   "metadata": {},
   "outputs": [],
   "source": [
    "import torch\n",
    "from torch.nn.functional import cosine_similarity\n",
    "import plotly.graph_objects as go"
   ]
  },
  {
   "cell_type": "code",
   "execution_count": null,
   "metadata": {},
   "outputs": [],
   "source": [
    "probes = {\n",
    "    layer: torch.load(\n",
    "        f\"probes/linear/resid_{layer}_linear.pth\"\n",
    "    ).squeeze(0) for layer in range(8)\n",
    "}"
   ]
  },
  {
   "cell_type": "code",
   "execution_count": null,
   "metadata": {},
   "outputs": [],
   "source": [
    "cos_sims = []\n",
    "for layer in range(8):\n",
    "    _cos_sims = []\n",
    "    for layer2 in range(8):\n",
    "        if layer2 > layer:\n",
    "            _cos_sims.append(0)\n",
    "            continue\n",
    "        cos_sim = cosine_similarity(probes[layer], probes[layer2], dim=0).mean()\n",
    "        _cos_sims.append(round(cos_sim.item(), 2))\n",
    "    cos_sims.append(_cos_sims)"
   ]
  },
  {
   "cell_type": "code",
   "execution_count": null,
   "metadata": {},
   "outputs": [],
   "source": [
    "import plotly.figure_factory as ff\n",
    "import plotly.express as px\n",
    "\n",
    "blues = px.colors.sequential.Blues\n",
    "print(blues)\n",
    "blues[0] = \"rgb(255, 255, 255)\"\n",
    "_fig = ff.create_annotated_heatmap(\n",
    "    z=cos_sims,\n",
    "    x=[f\"Layer {x+1}\" for x in range(8)],\n",
    "    y=[f\"Layer {x+1}\" for x in range(8)],\n",
    "    colorscale=blues,\n",
    "    #zmin=0,\n",
    "    #zmax=1,\n",
    "    annotation_text=cos_sims,\n",
    "    showscale=True,\n",
    "    colorbar=dict(tickfont=dict(size=18)),\n",
    ")\n",
    "_fig.update_xaxes(side=\"bottom\")\n",
    "_fig.update_layout(\n",
    "    yaxis_autorange=\"reversed\",\n",
    "    xaxis_showgrid=False,\n",
    "    yaxis_showgrid=False,\n",
    "    yaxis=dict(tickfont=dict(size=20)),\n",
    "    xaxis=dict(tickfont=dict(size=20)),\n",
    ")\n",
    "for idx in range(len(_fig.layout.annotations)):\n",
    "    _fig.layout.annotations[idx][\"font\"][\"size\"] = 20\n",
    "    if _fig.layout.annotations[idx].text == \"0\":\n",
    "        _fig.layout.annotations[idx].text = \"\"\n",
    "        \n",
    "_fig.show()\n",
    "_fig.write_image(\"cos_sims.pdf\")"
   ]
  },
  {
   "cell_type": "code",
   "execution_count": null,
   "metadata": {},
   "outputs": [],
   "source": [
    "heatmap = go.Heatmap(\n",
    "    z=cos_sims,\n",
    "    x=[str(x) for x in range(8)],\n",
    "    y=[str(x) for x in range(8)],\n",
    "    colorscale=\"blues\",\n",
    "    zmin=0,\n",
    "    zmax=1,\n",
    "    text=cos_sims,\n",
    "    annotation_text=cos_sims,\n",
    ")\n",
    "layout = go.Layout(\n",
    "    yaxis_autorange=\"reversed\",\n",
    "    xaxis_showgrid=False,\n",
    "    yaxis_showgrid=False,\n",
    ")\n",
    "for i in range(len(fig.layout.annotations)):\n",
    "    fig.layout.annotations[i] = cos_sims[i]\n",
    "\n",
    "fig=go.Figure(data=[heatmap], layout=layout)\n",
    "fig.show()"
   ]
  },
  {
   "cell_type": "code",
   "execution_count": null,
   "metadata": {},
   "outputs": [],
   "source": []
  },
  {
   "cell_type": "code",
   "execution_count": null,
   "metadata": {},
   "outputs": [],
   "source": []
  }
 ],
 "metadata": {
  "kernelspec": {
   "display_name": "Python 3",
   "language": "python",
   "name": "python3"
  },
  "language_info": {
   "codemirror_mode": {
    "name": "ipython",
    "version": 3
   },
   "file_extension": ".py",
   "mimetype": "text/x-python",
   "name": "python",
   "nbconvert_exporter": "python",
   "pygments_lexer": "ipython3",
   "version": "3.8.8"
  }
 },
 "nbformat": 4,
 "nbformat_minor": 2
}
